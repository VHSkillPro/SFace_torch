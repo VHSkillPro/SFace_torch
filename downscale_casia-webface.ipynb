{
 "cells": [
  {
   "cell_type": "code",
   "execution_count": 4,
   "id": "319059c8",
   "metadata": {},
   "outputs": [
    {
     "name": "stdout",
     "output_type": "stream",
     "text": [
      "Downscaling CASIA WebFace dataset...\n"
     ]
    },
    {
     "name": "stderr",
     "output_type": "stream",
     "text": [
      "  0%|          | 0/10572 [00:00<?, ?it/s]"
     ]
    },
    {
     "name": "stderr",
     "output_type": "stream",
     "text": [
      "100%|██████████| 10572/10572 [00:06<00:00, 1658.89it/s]"
     ]
    },
    {
     "name": "stdout",
     "output_type": "stream",
     "text": [
      "Downscaling completed.\n"
     ]
    },
    {
     "name": "stderr",
     "output_type": "stream",
     "text": [
      "\n"
     ]
    }
   ],
   "source": [
    "import os\n",
    "import random\n",
    "import shutil\n",
    "from tqdm import tqdm\n",
    "\n",
    "CASIA_WEBFACE_PATH = \"datasets/casia-webface-raw/casia-webface\"\n",
    "DISTINATION_PATH = \"datasets/train/downscale_casia-webface_2\"\n",
    "identities_name = os.listdir(CASIA_WEBFACE_PATH)\n",
    "\n",
    "if not os.path.exists(DISTINATION_PATH):\n",
    "    print(\"Downscaling CASIA WebFace dataset...\")\n",
    "\n",
    "    os.makedirs(DISTINATION_PATH)\n",
    "    for identity_name in tqdm(identities_name):\n",
    "        identity_path = os.path.join(CASIA_WEBFACE_PATH, identity_name)\n",
    "        if not os.path.isdir(identity_path):\n",
    "            continue\n",
    "\n",
    "        # Downscale the dataset. Get 10% of the images for each identity.\n",
    "        images_name = os.listdir(identity_path)\n",
    "        k = max(2, len(images_name) // 10)\n",
    "        images_name_downscale = random.sample(images_name, k)\n",
    "\n",
    "        # Copy the downscaled images to the new directory.\n",
    "        new_identity_path = os.path.join(DISTINATION_PATH, identity_name)\n",
    "        os.makedirs(os.path.join(DISTINATION_PATH, identity_name), exist_ok=True)\n",
    "        for image_name in images_name_downscale:\n",
    "            image_path = os.path.join(identity_path, image_name)\n",
    "            if not os.path.isfile(image_path):\n",
    "                continue\n",
    "            shutil.copy(\n",
    "                image_path, os.path.join(DISTINATION_PATH, identity_name, image_name)\n",
    "            )\n",
    "\n",
    "    print(\"Downscaling completed.\")\n",
    "else:\n",
    "    print(\"Directory already exists. Exiting.\")"
   ]
  },
  {
   "cell_type": "code",
   "execution_count": null,
   "id": "e1a6bf56",
   "metadata": {},
   "outputs": [],
   "source": [
    "import mxnet.tools.im2rec"
   ]
  },
  {
   "cell_type": "code",
   "execution_count": null,
   "id": "86f0fbe3",
   "metadata": {
    "vscode": {
     "languageId": "shellscript"
    }
   },
   "outputs": [],
   "source": [
    "python -m mxnet.tools.im2rec --list --recursive train datasets/train/downscale_casia-webface_2"
   ]
  },
  {
   "cell_type": "code",
   "execution_count": null,
   "id": "d82e77f8",
   "metadata": {
    "vscode": {
     "languageId": "shellscript"
    }
   },
   "outputs": [],
   "source": [
    "python -m mxnet.tools.im2rec --num-thread 16 --quality 100 train datasets/train/downscale_casia-webface_2"
   ]
  }
 ],
 "metadata": {
  "kernelspec": {
   "display_name": "Python 3",
   "language": "python",
   "name": "python3"
  },
  "language_info": {
   "codemirror_mode": {
    "name": "ipython",
    "version": 3
   },
   "file_extension": ".py",
   "mimetype": "text/x-python",
   "name": "python",
   "nbconvert_exporter": "python",
   "pygments_lexer": "ipython3",
   "version": "3.12.9"
  }
 },
 "nbformat": 4,
 "nbformat_minor": 5
}
