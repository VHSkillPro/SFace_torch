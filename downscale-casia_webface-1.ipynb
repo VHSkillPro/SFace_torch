{
 "cells": [
  {
   "cell_type": "code",
   "execution_count": null,
   "id": "319059c8",
   "metadata": {},
   "outputs": [
    {
     "name": "stdout",
     "output_type": "stream",
     "text": [
      "Downscaling CASIA WebFace dataset...\n"
     ]
    },
    {
     "name": "stderr",
     "output_type": "stream",
     "text": [
      "100%|██████████| 1057/1057 [00:06<00:00, 172.35it/s]"
     ]
    },
    {
     "name": "stdout",
     "output_type": "stream",
     "text": [
      "Downscaling completed.\n"
     ]
    },
    {
     "name": "stderr",
     "output_type": "stream",
     "text": [
      "\n"
     ]
    }
   ],
   "source": [
    "import os\n",
    "import shutil\n",
    "from tqdm import tqdm\n",
    "\n",
    "CASIA_WEBFACE_PATH = \"datasets/casia_webface_raw/casia-webface\"\n",
    "DISTINATION_PATH = \"datasets/train/downscale-casia_webface-1\"\n",
    "identities_name = os.listdir(CASIA_WEBFACE_PATH)\n",
    "\n",
    "identities_name = sorted(identities_name)\n",
    "new_identities_name = identities_name[0 : (len(identities_name) // 10)]\n",
    "\n",
    "if not os.path.exists(DISTINATION_PATH):\n",
    "    print(\"Downscaling CASIA WebFace dataset...\")\n",
    "\n",
    "    os.makedirs(DISTINATION_PATH)\n",
    "    for identity_name in tqdm(new_identities_name):\n",
    "        identity_path = os.path.join(CASIA_WEBFACE_PATH, identity_name)\n",
    "        if not os.path.isdir(identity_path):\n",
    "            continue\n",
    "\n",
    "        images_name = os.listdir(identity_path)\n",
    "\n",
    "        # Copy the downscaled images to the new directory.\n",
    "        new_identity_path = os.path.join(DISTINATION_PATH, identity_name)\n",
    "        os.makedirs(os.path.join(DISTINATION_PATH, identity_name), exist_ok=True)\n",
    "        for image_name in images_name:\n",
    "            image_path = os.path.join(identity_path, image_name)\n",
    "            if not os.path.isfile(image_path):\n",
    "                continue\n",
    "            shutil.copy(\n",
    "                image_path, os.path.join(DISTINATION_PATH, identity_name, image_name)\n",
    "            )\n",
    "\n",
    "    print(\"Downscaling completed.\")\n",
    "else:\n",
    "    print(\"Directory already exists. Exiting.\")"
   ]
  },
  {
   "cell_type": "code",
   "execution_count": null,
   "id": "86f0fbe3",
   "metadata": {
    "vscode": {
     "languageId": "shellscript"
    }
   },
   "outputs": [],
   "source": [
    "python -m mxnet.tools.im2rec --list --recursive train datasets/train/downscale-casia_webface-1"
   ]
  },
  {
   "cell_type": "code",
   "execution_count": null,
   "id": "d82e77f8",
   "metadata": {
    "vscode": {
     "languageId": "shellscript"
    }
   },
   "outputs": [],
   "source": [
    "python -m mxnet.tools.im2rec --num-thread 16 --quality 100 train datasets/train/downscale-casia_webface-1"
   ]
  }
 ],
 "metadata": {
  "kernelspec": {
   "display_name": "Python 3",
   "language": "python",
   "name": "python3"
  },
  "language_info": {
   "codemirror_mode": {
    "name": "ipython",
    "version": 3
   },
   "file_extension": ".py",
   "mimetype": "text/x-python",
   "name": "python",
   "nbconvert_exporter": "python",
   "pygments_lexer": "ipython3",
   "version": "3.12.9"
  }
 },
 "nbformat": 4,
 "nbformat_minor": 5
}
